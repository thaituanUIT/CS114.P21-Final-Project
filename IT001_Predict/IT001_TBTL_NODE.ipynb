{
 "cells": [
  {
   "cell_type": "code",
   "execution_count": null,
   "id": "67f19cc0",
   "metadata": {
    "execution": {
     "iopub.execute_input": "2025-06-23T18:06:04.755518Z",
     "iopub.status.busy": "2025-06-23T18:06:04.755254Z",
     "iopub.status.idle": "2025-06-23T18:07:21.567225Z",
     "shell.execute_reply": "2025-06-23T18:07:21.566375Z"
    },
    "papermill": {
     "duration": 76.817175,
     "end_time": "2025-06-23T18:07:21.568844",
     "exception": false,
     "start_time": "2025-06-23T18:06:04.751669",
     "status": "completed"
    },
    "tags": []
   },
   "outputs": [],
   "source": [
    "!pip uninstall -y tensorflow tf-keras tensorflow-probability\n",
    "!pip install tensorflow==2.15.0 tf-keras==2.15.0 tensorflow-probability==0.22\n"
   ]
  },
  {
   "cell_type": "code",
   "execution_count": null,
   "id": "433ce8f9",
   "metadata": {
    "execution": {
     "iopub.execute_input": "2025-06-23T18:07:21.588440Z",
     "iopub.status.busy": "2025-06-23T18:07:21.588158Z",
     "iopub.status.idle": "2025-06-23T18:07:30.030152Z",
     "shell.execute_reply": "2025-06-23T18:07:30.029108Z"
    },
    "papermill": {
     "duration": 8.45289,
     "end_time": "2025-06-23T18:07:30.031325",
     "exception": true,
     "start_time": "2025-06-23T18:07:21.578435",
     "status": "failed"
    },
    "tags": []
   },
   "outputs": [],
   "source": [
    "!git clone https://github.com/xl402/neural-oblivious-decision-ensembles.git node\n",
    "\n",
    "import sys\n",
    "sys.path.append(\"/kaggle/working/node\")\n",
    "\n",
    "from node.networks.model import NODE"
   ]
  },
  {
   "cell_type": "code",
   "execution_count": null,
   "id": "4c4a0bad",
   "metadata": {
    "execution": {
     "iopub.execute_input": "2025-06-23T18:00:08.958445Z",
     "iopub.status.busy": "2025-06-23T18:00:08.958273Z",
     "iopub.status.idle": "2025-06-23T18:00:08.976678Z",
     "shell.execute_reply": "2025-06-23T18:00:08.976164Z",
     "shell.execute_reply.started": "2025-06-23T18:00:08.958432Z"
    },
    "papermill": {
     "duration": null,
     "end_time": null,
     "exception": null,
     "start_time": null,
     "status": "pending"
    },
    "tags": []
   },
   "outputs": [],
   "source": [
    "import pandas as pd\n",
    "import numpy as np\n",
    "import tensorflow as tf\n",
    "from sklearn.model_selection import train_test_split\n",
    "from sklearn.preprocessing import StandardScaler\n",
    "from sklearn.metrics import r2_score\n"
   ]
  },
  {
   "cell_type": "code",
   "execution_count": null,
   "id": "cd6627bd",
   "metadata": {
    "execution": {
     "iopub.execute_input": "2025-06-23T18:00:08.977607Z",
     "iopub.status.busy": "2025-06-23T18:00:08.977373Z",
     "iopub.status.idle": "2025-06-23T18:00:10.132893Z",
     "shell.execute_reply": "2025-06-23T18:00:10.132080Z",
     "shell.execute_reply.started": "2025-06-23T18:00:08.977591Z"
    },
    "papermill": {
     "duration": null,
     "end_time": null,
     "exception": null,
     "start_time": null,
     "status": "pending"
    },
    "tags": []
   },
   "outputs": [],
   "source": [
    "# 1. Load dữ liệu\n",
    "annonimized = pd.read_csv('/kaggle/input/it001-diem/annonimized.csv')\n",
    "ck = pd.read_csv('/kaggle/input/it001-diem/ck-public.csv')\n",
    "qt = pd.read_csv('/kaggle/input/it001-diem/qt-public.csv')\n",
    "th = pd.read_csv('/kaggle/input/it001-diem/th-public.csv')\n"
   ]
  },
  {
   "cell_type": "code",
   "execution_count": null,
   "id": "e3a91ce8",
   "metadata": {
    "execution": {
     "iopub.execute_input": "2025-06-23T18:00:10.134054Z",
     "iopub.status.busy": "2025-06-23T18:00:10.133765Z",
     "iopub.status.idle": "2025-06-23T18:00:10.147491Z",
     "shell.execute_reply": "2025-06-23T18:00:10.146803Z",
     "shell.execute_reply.started": "2025-06-23T18:00:10.134031Z"
    },
    "papermill": {
     "duration": null,
     "end_time": null,
     "exception": null,
     "start_time": null,
     "status": "pending"
    },
    "tags": []
   },
   "outputs": [],
   "source": [
    "\n",
    "# 2. Tính điểm TBTL\n",
    "qt['diemqt'] = pd.to_numeric(qt['diemqt'], errors='coerce')\n",
    "th['TH'] = pd.to_numeric(th['TH'], errors='coerce')\n",
    "df_score = ck.merge(qt, on='hash', how='outer').merge(th, on='hash', how='outer')\n",
    "df_score['TBTL'] = 0.3 * df_score['diemqt'] + 0.2 * df_score['TH'] + 0.5 * df_score['CK']\n",
    "df_score = df_score.dropna(subset=['TBTL'])\n"
   ]
  },
  {
   "cell_type": "code",
   "execution_count": null,
   "id": "645d88a4",
   "metadata": {
    "execution": {
     "iopub.execute_input": "2025-06-23T18:00:10.148477Z",
     "iopub.status.busy": "2025-06-23T18:00:10.148218Z",
     "iopub.status.idle": "2025-06-23T18:00:10.481004Z",
     "shell.execute_reply": "2025-06-23T18:00:10.480121Z",
     "shell.execute_reply.started": "2025-06-23T18:00:10.148460Z"
    },
    "papermill": {
     "duration": null,
     "end_time": null,
     "exception": null,
     "start_time": null,
     "status": "pending"
    },
    "tags": []
   },
   "outputs": [],
   "source": [
    "# 3. Trích xuất đặc trưng từ log\n",
    "annonimized.columns = [\n",
    "    \"assignment_id\", \"problem_id\", \"username\", \"is_final\", \"status\",\n",
    "    \"pre_score\", \"coefficient\", \"language_id\", \"created_at\",\n",
    "    \"updated_at\", \"judgement\"\n",
    "]\n",
    "\n",
    "group = annonimized.groupby(\"username\")\n",
    "df_feat = pd.DataFrame({\n",
    "    \"total_submissions\": group.size(),\n",
    "    \"final_submissions\": group[\"is_final\"].sum(),\n",
    "    \"unique_assignments\": group[\"assignment_id\"].nunique(),\n",
    "    \"unique_problems\": group[\"problem_id\"].nunique(),\n",
    "    \"mean_pre_score\": group[\"pre_score\"].mean(),\n",
    "    \"std_pre_score\": group[\"pre_score\"].std(),\n",
    "    \"median_pre_score\": group[\"pre_score\"].median(),\n",
    "    \"accepted_ratio\": group[\"status\"].apply(lambda x: (x == \"accepted\").sum() / len(x)),\n",
    "    \"mean_coefficient\": group[\"coefficient\"].mean(),\n",
    "}).reset_index()\n",
    "\n",
    "df_feat = df_feat.fillna(0)\n"
   ]
  },
  {
   "cell_type": "code",
   "execution_count": null,
   "id": "8c45263d",
   "metadata": {
    "execution": {
     "iopub.execute_input": "2025-06-23T18:00:10.482552Z",
     "iopub.status.busy": "2025-06-23T18:00:10.481899Z",
     "iopub.status.idle": "2025-06-23T18:00:10.495957Z",
     "shell.execute_reply": "2025-06-23T18:00:10.495223Z",
     "shell.execute_reply.started": "2025-06-23T18:00:10.482522Z"
    },
    "papermill": {
     "duration": null,
     "end_time": null,
     "exception": null,
     "start_time": null,
     "status": "pending"
    },
    "tags": []
   },
   "outputs": [],
   "source": [
    "\n",
    "\n",
    "df_train = df_feat.merge(df_score, left_on='username', right_on='hash').dropna(subset=[\"TBTL\"])\n",
    "X = df_train.drop(columns=[\"username\", \"hash\", \"CK\", \"diemqt\", \"TH\", \"TBTL\"])\n",
    "y = df_train[\"TBTL\"].values\n",
    "\n",
    "scaler = StandardScaler()\n",
    "X_scaled = scaler.fit_transform(X)\n",
    "X_train, X_val, y_train, y_val = train_test_split(X_scaled, y, test_size=0.2, random_state=42)\n"
   ]
  },
  {
   "cell_type": "code",
   "execution_count": null,
   "id": "3b517149",
   "metadata": {
    "execution": {
     "iopub.execute_input": "2025-06-23T18:00:10.496927Z",
     "iopub.status.busy": "2025-06-23T18:00:10.496688Z",
     "iopub.status.idle": "2025-06-23T18:00:11.569038Z",
     "shell.execute_reply": "2025-06-23T18:00:11.568456Z",
     "shell.execute_reply.started": "2025-06-23T18:00:10.496906Z"
    },
    "papermill": {
     "duration": null,
     "end_time": null,
     "exception": null,
     "start_time": null,
     "status": "pending"
    },
    "tags": []
   },
   "outputs": [],
   "source": [
    "\n",
    "model = NODE(\n",
    "    n_layers=4,               # số lớp NODE\n",
    "    n_trees=256,              # mỗi lớp có 256 cây\n",
    "    tree_depth=6,             # độ sâu mỗi cây\n",
    "    units=2,                  # đầu ra mỗi cây\n",
    "    link=tf.keras.activations.linear  # hồi quy\n",
    ")\n",
    "\n",
    "inputs = tf.keras.Input(shape=(X_train.shape[1],))\n",
    "outputs = model(inputs)\n",
    "node_model = tf.keras.Model(inputs=inputs, outputs=outputs)\n",
    "node_model.compile(optimizer=tf.keras.optimizers.Adam(1e-3), loss=\"mse\")\n",
    "\n"
   ]
  },
  {
   "cell_type": "code",
   "execution_count": null,
   "id": "c91d090f",
   "metadata": {
    "execution": {
     "iopub.execute_input": "2025-06-23T18:00:11.571023Z",
     "iopub.status.busy": "2025-06-23T18:00:11.570781Z",
     "iopub.status.idle": "2025-06-23T18:03:37.492941Z",
     "shell.execute_reply": "2025-06-23T18:03:37.491847Z",
     "shell.execute_reply.started": "2025-06-23T18:00:11.571006Z"
    },
    "papermill": {
     "duration": null,
     "end_time": null,
     "exception": null,
     "start_time": null,
     "status": "pending"
    },
    "tags": []
   },
   "outputs": [],
   "source": [
    "\n",
    "node_model.fit(\n",
    "    X_train, y_train,\n",
    "    validation_data=(X_val, y_val),\n",
    "    epochs=2000,\n",
    "    batch_size=256,  \n",
    "    verbose=1,\n",
    "    callbacks=[\n",
    "        tf.keras.callbacks.EarlyStopping(patience=10, restore_best_weights=True),\n",
    "        tf.keras.callbacks.ReduceLROnPlateau(patience=5, factor=0.5, min_lr=1e-5)\n",
    "    ]\n",
    ")\n"
   ]
  },
  {
   "cell_type": "code",
   "execution_count": null,
   "id": "4b96dcb9",
   "metadata": {
    "execution": {
     "iopub.status.busy": "2025-06-23T18:03:37.493700Z",
     "iopub.status.idle": "2025-06-23T18:03:37.494004Z",
     "shell.execute_reply": "2025-06-23T18:03:37.493883Z",
     "shell.execute_reply.started": "2025-06-23T18:03:37.493870Z"
    },
    "papermill": {
     "duration": null,
     "end_time": null,
     "exception": null,
     "start_time": null,
     "status": "pending"
    },
    "tags": []
   },
   "outputs": [],
   "source": [
    "\n",
    "df_all = df_feat.copy()\n",
    "X_all = df_all.drop(columns=[\"username\"])\n",
    "X_all_scaled = scaler.transform(X_all)\n",
    "df_all[\"TBTL\"] = node_model.predict(X_all_scaled).flatten()\n"
   ]
  },
  {
   "cell_type": "code",
   "execution_count": null,
   "id": "9dd5bf55",
   "metadata": {
    "execution": {
     "iopub.status.busy": "2025-06-23T18:03:37.494939Z",
     "iopub.status.idle": "2025-06-23T18:03:37.495188Z",
     "shell.execute_reply": "2025-06-23T18:03:37.495080Z",
     "shell.execute_reply.started": "2025-06-23T18:03:37.495070Z"
    },
    "papermill": {
     "duration": null,
     "end_time": null,
     "exception": null,
     "start_time": null,
     "status": "pending"
    },
    "tags": []
   },
   "outputs": [],
   "source": [
    "\n",
    "\n",
    "submission = df_all[[\"username\", \"TBTL\"]].rename(columns={\"username\": \"hash\"})\n",
    "submission.to_csv(\"submission_1.csv\", index=False)\n"
   ]
  }
 ],
 "metadata": {
  "kaggle": {
   "accelerator": "nvidiaTeslaT4",
   "dataSources": [
    {
     "datasetId": 7683855,
     "sourceId": 12198177,
     "sourceType": "datasetVersion"
    }
   ],
   "dockerImageVersionId": 31041,
   "isGpuEnabled": true,
   "isInternetEnabled": true,
   "language": "python",
   "sourceType": "notebook"
  },
  "kernelspec": {
   "display_name": "Python 3",
   "language": "python",
   "name": "python3"
  },
  "language_info": {
   "codemirror_mode": {
    "name": "ipython",
    "version": 3
   },
   "file_extension": ".py",
   "mimetype": "text/x-python",
   "name": "python",
   "nbconvert_exporter": "python",
   "pygments_lexer": "ipython3",
   "version": "3.11.11"
  },
  "papermill": {
   "default_parameters": {},
   "duration": 92.325049,
   "end_time": "2025-06-23T18:07:32.858576",
   "environment_variables": {},
   "exception": true,
   "input_path": "__notebook__.ipynb",
   "output_path": "__notebook__.ipynb",
   "parameters": {},
   "start_time": "2025-06-23T18:06:00.533527",
   "version": "2.6.0"
  }
 },
 "nbformat": 4,
 "nbformat_minor": 5
}
