{
 "cells": [
  {
   "cell_type": "code",
   "execution_count": 1,
   "id": "48e4a3ba",
   "metadata": {},
   "outputs": [],
   "source": [
    "import glob \n",
    "from torchvision.transforms.v2 import ToTensor\n",
    "import torchvision.transforms.v2 as transforms\n",
    "from torchvision.io import decode_image\n",
    "from torchvision.transforms.v2.functional import to_image\n",
    "import torch \n",
    "from torch.utils.data import Dataset, DataLoader \n",
    "from tqdm import tqdm\n",
    "import os\n",
    "from torchvision import models\n",
    "import torch.nn as nn\n",
    "from PIL import Image\n",
    "import pillow_heif\n",
    "pillow_heif.register_heif_opener()"
   ]
  },
  {
   "cell_type": "code",
   "execution_count": 2,
   "id": "0b8c568c",
   "metadata": {},
   "outputs": [],
   "source": [
    "test_transform = transforms.Compose([  \n",
    "    transforms.Resize((224, 224)), \n",
    "    transforms.ToImage(),\n",
    "    transforms.ToDtype(torch.float32, scale=True),\n",
    "    transforms.Normalize(   [0.485, 0.456, 0.406], \n",
    "                            [0.229, 0.224, 0.225])\n",
    "])\n"
   ]
  },
  {
   "cell_type": "code",
   "execution_count": 3,
   "id": "d9d0b50e",
   "metadata": {},
   "outputs": [
    {
     "name": "stdout",
     "output_type": "stream",
     "text": [
      "Using cuda device\n"
     ]
    }
   ],
   "source": [
    "device = torch.device(\"cuda\" if torch.cuda.is_available() else \"cpu\")\n",
    "print(f\"Using {device} device\")"
   ]
  },
  {
   "cell_type": "markdown",
   "id": "ed2c9348",
   "metadata": {},
   "source": [
    "# Evaluation phase"
   ]
  },
  {
   "cell_type": "code",
   "execution_count": 4,
   "id": "b7dc8517",
   "metadata": {},
   "outputs": [],
   "source": [
    "# model = models.resnet34(weights=None)\n",
    "# num_ftrs = model.fc.in_features\n",
    "# model.fc = nn.Linear(num_ftrs, 10)  # 10 classes for digits (0-9)\n",
    "\n",
    "# weights_path = r'C:/Users/USER/Documents/MachineLearning/handwritten_digit/pretrained/non_aug_resnet34_digits_weights.pth'\n",
    "# state_dict = torch.load(weights_path, weights_only=True)\n",
    "\n",
    "# from collections import OrderedDict\n",
    "# new_state_dict = OrderedDict()\n",
    "# for k, v in state_dict.items():\n",
    "#     name = k[7:] if k.startswith('module.') else k\n",
    "#     new_state_dict[name] = v\n",
    "\n",
    "# # Load the modified state dict\n",
    "# model.load_state_dict(new_state_dict)\n",
    "# model = model.to(device)"
   ]
  },
  {
   "cell_type": "code",
   "execution_count": 5,
   "id": "63999678",
   "metadata": {},
   "outputs": [],
   "source": [
    "# model = models.resnet18(weights=None)\n",
    "# num_ftrs = model.fc.in_features\n",
    "# model.fc = nn.Linear(num_ftrs, 10)  # 10 classes for digits (0-9)\n",
    "\n",
    "# weights_path = r'C:/Users/USER/Documents/MachineLearning/handwritten_digit/pretrained/non_aug_resnet18_digits_weights.pth'\n",
    "# state_dict = torch.load(weights_path, weights_only=True)\n",
    "\n",
    "# from collections import OrderedDict\n",
    "# new_state_dict = OrderedDict()\n",
    "# for k, v in state_dict.items():\n",
    "#     name = k[7:] if k.startswith('module.') else k\n",
    "#     new_state_dict[name] = v\n",
    "\n",
    "# # Load the modified state dict\n",
    "# model.load_state_dict(new_state_dict)\n",
    "# model = model.to(device)"
   ]
  },
  {
   "cell_type": "code",
   "execution_count": 6,
   "id": "ab5c0e95",
   "metadata": {},
   "outputs": [],
   "source": [
    "# model = models.efficientnet_b1(weights=None)\n",
    "# num_ftrs = model.classifier[1].in_features\n",
    "# model.classifier = nn.Sequential(\n",
    "#     nn.Dropout(p=0.3, inplace=True),\n",
    "#     nn.Linear(in_features=num_ftrs, out_features=10)  # 10 digits\n",
    "# )\n",
    "# weights_path = r'C:\\Users\\USER\\Documents\\MachineLearning\\handwritten_digit\\pretrained\\non_aug_effb1_digits_weights.pth'\n",
    "\n",
    "# state_dict = torch.load(weights_path, weights_only=True)\n",
    "\n",
    "# # Load the modified state dict\n",
    "# model.load_state_dict(state_dict)\n",
    "# model = model.to(device)"
   ]
  },
  {
   "cell_type": "code",
   "execution_count": 13,
   "id": "91a06644",
   "metadata": {},
   "outputs": [],
   "source": [
    "model= models.vgg11(weights=None)\n",
    "num_ftrs = model.classifier[6].in_features\n",
    "model.classifier[6] = nn.Linear(num_ftrs, 10)\n",
    "weights_path = r'C:\\Users\\USER\\Documents\\MachineLearning\\handwritten_digit\\pretrained\\non_aug_vgg11_digits_weights.pth'\n",
    "\n",
    "state_dict = torch.load(weights_path, weights_only=True)\n",
    "\n",
    "from collections import OrderedDict\n",
    "new_state_dict = OrderedDict()\n",
    "for k, v in state_dict.items():\n",
    "    name = k[7:] if k.startswith('module.') else k\n",
    "    new_state_dict[name] = v\n",
    "\n",
    "# Load the modified state dict\n",
    "model.load_state_dict(new_state_dict)\n",
    "model = model.to(device)"
   ]
  },
  {
   "cell_type": "code",
   "execution_count": 14,
   "id": "07a72fd6",
   "metadata": {},
   "outputs": [
    {
     "name": "stdout",
     "output_type": "stream",
     "text": [
      "Found 9998 images.\n"
     ]
    }
   ],
   "source": [
    "unlabeled_dir = r'C:\\Users\\USER\\Documents\\MachineLearning\\handwritten_digit\\data.2025'\n",
    "unlabeled_images = []\n",
    "\n",
    "for root, dirs, files in os.walk(unlabeled_dir):\n",
    "    for file in files:\n",
    "        if file.lower().endswith(('.jpg', '.jpeg', '.png', '.heic', '.jfif', '.md')):\n",
    "            unlabeled_images.append(os.path.join(root, file))\n",
    "        else:\n",
    "            print(f\"Skipped file: {file}\")\n",
    "\n",
    "print(f\"Found {len(unlabeled_images)} images.\")"
   ]
  },
  {
   "cell_type": "code",
   "execution_count": 15,
   "id": "9dc6ec38",
   "metadata": {},
   "outputs": [],
   "source": [
    "class CustomDataset(Dataset):\n",
    "    def __init__(self, image_paths, transform=None):\n",
    "        self.image_paths = image_paths\n",
    "        self.transform = transform\n",
    "\n",
    "    def __len__(self):\n",
    "        return len(self.image_paths)\n",
    "\n",
    "    def __getitem__(self, idx):\n",
    "        path = self.image_paths[idx]\n",
    "        try:\n",
    "            if path.lower().endswith('.md'):\n",
    "                placeholder = torch.zeros((3, 224, 224), dtype=torch.float32)\n",
    "                return placeholder, os.path.basename(path)\n",
    "            \n",
    "            file_size = os.path.getsize(path)\n",
    "            if file_size < 10:  \n",
    "                placeholder = torch.zeros((3, 224, 224), dtype=torch.float32)\n",
    "                return placeholder, os.path.basename(path)\n",
    "            \n",
    "            else:\n",
    "                image = Image.open(path).convert(\"RGB\")\n",
    "                image = to_image(image)\n",
    "                if self.transform:\n",
    "                    image = self.transform(image)\n",
    "                return image, os.path.basename(path)\n",
    "            \n",
    "        except Exception as e:\n",
    "            print(f\"Error processing {path}: {str(e)}\")\n",
    "            placeholder = torch.zeros((3, 224, 224), dtype=torch.float32)\n",
    "            return placeholder, os.path.basename(path)"
   ]
  },
  {
   "cell_type": "code",
   "execution_count": 16,
   "id": "705ad8d1",
   "metadata": {},
   "outputs": [],
   "source": [
    "eval_dataset = CustomDataset(unlabeled_images, transform=test_transform)\n",
    "eval_loader = DataLoader(eval_dataset, batch_size=64, shuffle=False, num_workers=0)"
   ]
  },
  {
   "cell_type": "code",
   "execution_count": 17,
   "id": "6a0f22bc",
   "metadata": {},
   "outputs": [
    {
     "name": "stderr",
     "output_type": "stream",
     "text": [
      "100%|██████████| 157/157 [05:24<00:00,  2.07s/it]\n"
     ]
    }
   ],
   "source": [
    "model.eval()\n",
    "predictions = []\n",
    "filenames = []\n",
    "\n",
    "with torch.no_grad():\n",
    "    for images, image_paths in tqdm(eval_loader):\n",
    "        images = images.to(device)\n",
    "        outputs = model(images)\n",
    "        _, preds = torch.max(outputs, 1)\n",
    "        \n",
    "        predictions.extend(preds.cpu().numpy())\n",
    "        filenames.extend(image_paths)"
   ]
  },
  {
   "cell_type": "code",
   "execution_count": 18,
   "id": "b46da0bc",
   "metadata": {},
   "outputs": [
    {
     "name": "stdout",
     "output_type": "stream",
     "text": [
      "Predictions saved to C:\\\\Users\\\\USER\\\\Documents\\\\MachineLearning\\\\handwritten_digit\\\\predictions\\\\predictionsvgg11_non_aug.csv\n"
     ]
    }
   ],
   "source": [
    "import pandas as pd\n",
    "\n",
    "results = pd.DataFrame({\n",
    "    'Filename': filenames,\n",
    "    'Prediction': predictions\n",
    "})\n",
    "\n",
    "output_path = r'C:\\\\Users\\\\USER\\\\Documents\\\\MachineLearning\\\\handwritten_digit\\\\predictions\\\\predictionsvgg11_non_aug.csv'\n",
    "results.to_csv(output_path, header=False, index=False)\n",
    "\n",
    "print(f\"Predictions saved to {output_path}\")"
   ]
  }
 ],
 "metadata": {
  "kernelspec": {
   "display_name": ".venv",
   "language": "python",
   "name": "python3"
  },
  "language_info": {
   "codemirror_mode": {
    "name": "ipython",
    "version": 3
   },
   "file_extension": ".py",
   "mimetype": "text/x-python",
   "name": "python",
   "nbconvert_exporter": "python",
   "pygments_lexer": "ipython3",
   "version": "3.12.0"
  }
 },
 "nbformat": 4,
 "nbformat_minor": 5
}
